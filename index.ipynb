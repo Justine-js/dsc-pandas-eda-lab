{
 "cells": [
  {
   "cell_type": "code",
   "execution_count": 1,
   "metadata": {
    "scrolled": true
   },
   "outputs": [
    {
     "name": "stdout",
     "output_type": "stream",
     "text": [
      " Volume in drive C has no label.\n",
      " Volume Serial Number is FEDB-7F2B\n",
      "\n",
      " Directory of C:\\Users\\User\\Documents\\Flatiron\\dsc-pandas-eda-lab\n",
      "\n",
      "24/01/2025  03:23 PM    <DIR>          .\n",
      "24/01/2025  11:01 AM    <DIR>          ..\n",
      "20/01/2025  07:05 PM               136 .canvas\n",
      "20/01/2025  07:05 PM    <DIR>          .github\n",
      "20/01/2025  07:05 PM                66 .gitignore\n",
      "20/01/2025  07:07 PM    <DIR>          .ipynb_checkpoints\n",
      "20/01/2025  07:05 PM                96 .learn\n",
      "20/01/2025  07:05 PM             1,846 CONTRIBUTING.md\n",
      "20/01/2025  07:05 PM    <DIR>          data\n",
      "20/01/2025  07:05 PM    <DIR>          env\n",
      "20/01/2025  07:05 PM    <DIR>          images\n",
      "24/01/2025  03:23 PM           221,806 index.ipynb\n",
      "20/01/2025  07:05 PM             1,354 LICENSE.md\n",
      "20/01/2025  07:05 PM            11,766 README.md\n",
      "20/01/2025  07:05 PM             4,857 splitter.py\n",
      "               8 File(s)        241,927 bytes\n",
      "               7 Dir(s)  55,869,390,848 bytes free\n"
     ]
    }
   ],
   "source": [
    "# Check Files in directory\n",
    "! dir  "
   ]
  },
  {
   "cell_type": "code",
   "execution_count": 2,
   "metadata": {},
   "outputs": [
    {
     "name": "stdout",
     "output_type": "stream",
     "text": [
      "['MSSubClass: Identifies the type of dwelling involved in the sale.', '']\n",
      "[]\n",
      "['        20', '1-STORY 1946 & NEWER ALL STYLES']\n",
      "['        30', '1-STORY 1945 & OLDER']\n",
      "['        40', '1-STORY W/FINISHED ATTIC ALL AGES']\n",
      "['        45', '1-1/2 STORY - UNFINISHED ALL AGES']\n",
      "['        50', '1-1/2 STORY FINISHED ALL AGES']\n",
      "['        60', '2-STORY 1946 & NEWER']\n",
      "['        70', '2-STORY 1945 & OLDER']\n",
      "['        75', '2-1/2 STORY ALL AGES']\n",
      "['        80', 'SPLIT OR MULTI-LEVEL']\n",
      "['        85', 'SPLIT FOYER']\n",
      "['        90', 'DUPLEX - ALL STYLES AND AGES']\n",
      "['       120', '1-STORY PUD (Planned Unit Development) - 1946 & NEWER']\n",
      "['       150', '1-1/2 STORY PUD - ALL AGES']\n",
      "['       160', '2-STORY PUD - 1946 & NEWER']\n",
      "['       180', 'PUD - MULTILEVEL - INCL SPLIT LEV/FOYER']\n",
      "['       190', '2 FAMILY CONVERSION - ALL STYLES AND AGES']\n",
      "[]\n",
      "['MSZoning: Identifies the general zoning classification of the sale.']\n",
      "['', '', '']\n",
      "['       A', 'Agriculture']\n",
      "['       C', 'Commercial']\n",
      "['       FV', 'Floating Village Residential']\n",
      "['       I', 'Industrial']\n",
      "['       RH', 'Residential High Density']\n",
      "['       RL', 'Residential Low Density']\n",
      "['       RP', 'Residential Low Density Park ']\n",
      "['       RM', 'Residential Medium Density']\n",
      "['', '']\n",
      "['LotFrontage: Linear feet of street connected to property']\n",
      "[]\n",
      "['LotArea: Lot size in square feet']\n",
      "[]\n",
      "['Street: Type of road access to property']\n",
      "[]\n",
      "['       Grvl', 'Gravel', '']\n",
      "['       Pave', 'Paved']\n",
      "['       ', '']\n",
      "['Alley: Type of alley access to property']\n",
      "[]\n",
      "['       Grvl', 'Gravel']\n",
      "['       Pave', 'Paved']\n",
      "['       NA ', 'No alley access']\n",
      "['', '', '']\n",
      "['LotShape: General shape of property']\n",
      "[]\n",
      "['       Reg', 'Regular', '']\n",
      "['       IR1', 'Slightly irregular']\n",
      "['       IR2', 'Moderately Irregular']\n",
      "['       IR3', 'Irregular']\n",
      "['       ']\n",
      "['LandContour: Flatness of the property']\n",
      "[]\n",
      "['       Lvl', 'Near Flat/Level', '']\n",
      "['       Bnk', 'Banked - Quick and significant rise from street grade to building']\n",
      "['       HLS', 'Hillside - Significant slope from side to side']\n",
      "['       Low', 'Depression']\n",
      "['', '', '']\n",
      "['Utilities: Type of utilities available']\n",
      "['', '', '']\n",
      "['       AllPub', 'All public Utilities (E,G,W,& S)', '']\n",
      "['       NoSewr', 'Electricity, Gas, and Water (Septic Tank)']\n",
      "['       NoSeWa', 'Electricity and Gas Only']\n",
      "['       ELO', 'Electricity only', '']\n",
      "['', '']\n",
      "['LotConfig: Lot configuration']\n",
      "[]\n",
      "['       Inside', 'Inside lot']\n",
      "['       Corner', 'Corner lot']\n",
      "['       CulDSac', 'Cul-de-sac']\n",
      "['       FR2', 'Frontage on 2 sides of property']\n",
      "['       FR3', 'Frontage on 3 sides of property']\n",
      "['', '']\n",
      "['LandSlope: Slope of property']\n",
      "['', '', '']\n",
      "['       Gtl', 'Gentle slope']\n",
      "['       Mod', 'Moderate Slope', '']\n",
      "['       Sev', 'Severe Slope']\n",
      "['', '']\n",
      "['Neighborhood: Physical locations within Ames city limits']\n",
      "[]\n",
      "['       Blmngtn', 'Bloomington Heights']\n",
      "['       Blueste', 'Bluestem']\n",
      "['       BrDale', 'Briardale']\n",
      "['       BrkSide', 'Brookside']\n",
      "['       ClearCr', 'Clear Creek']\n",
      "['       CollgCr', 'College Creek']\n",
      "['       Crawfor', 'Crawford']\n",
      "['       Edwards', 'Edwards']\n",
      "['       Gilbert', 'Gilbert']\n",
      "['       IDOTRR', 'Iowa DOT and Rail Road']\n",
      "['       MeadowV', 'Meadow Village']\n",
      "['       Mitchel', 'Mitchell']\n",
      "['       Names', 'North Ames']\n",
      "['       NoRidge', 'Northridge']\n",
      "['       NPkVill', 'Northpark Villa']\n",
      "['       NridgHt', 'Northridge Heights']\n",
      "['       NWAmes', 'Northwest Ames']\n",
      "['       OldTown', 'Old Town']\n",
      "['       SWISU', 'South & West of Iowa State University']\n",
      "['       Sawyer', 'Sawyer']\n",
      "['       SawyerW', 'Sawyer West']\n",
      "['       Somerst', 'Somerset']\n",
      "['       StoneBr', 'Stone Brook']\n",
      "['       Timber', 'Timberland']\n",
      "['       Veenker', 'Veenker']\n",
      "['', '', '', '']\n",
      "['Condition1: Proximity to various conditions']\n",
      "['', '']\n",
      "['       Artery', 'Adjacent to arterial street']\n",
      "['       Feedr', 'Adjacent to feeder street', '']\n",
      "['       Norm', 'Normal', '']\n",
      "['       RRNn', \"Within 200' of North-South Railroad\"]\n",
      "['       RRAn', 'Adjacent to North-South Railroad']\n",
      "['       PosN', 'Near positive off-site feature--park, greenbelt, etc.']\n",
      "['       PosA', 'Adjacent to postive off-site feature']\n",
      "['       RRNe', \"Within 200' of East-West Railroad\"]\n",
      "['       RRAe', 'Adjacent to East-West Railroad']\n",
      "['', '']\n",
      "['Condition2: Proximity to various conditions (if more than one is present)']\n",
      "['', '', '']\n",
      "['       Artery', 'Adjacent to arterial street']\n",
      "['       Feedr', 'Adjacent to feeder street', '']\n",
      "['       Norm', 'Normal', '']\n",
      "['       RRNn', \"Within 200' of North-South Railroad\"]\n",
      "['       RRAn', 'Adjacent to North-South Railroad']\n",
      "['       PosN', 'Near positive off-site feature--park, greenbelt, etc.']\n",
      "['       PosA', 'Adjacent to postive off-site feature']\n",
      "['       RRNe', \"Within 200' of East-West Railroad\"]\n",
      "['       RRAe', 'Adjacent to East-West Railroad']\n",
      "['', '']\n",
      "['BldgType: Type of dwelling']\n",
      "['', '', '']\n",
      "['       1Fam', 'Single-family Detached', '']\n",
      "['       2FmCon', 'Two-family Conversion; originally built as one-family dwelling']\n",
      "['       Duplx', 'Duplex']\n",
      "['       TwnhsE', 'Townhouse End Unit']\n",
      "['       TwnhsI', 'Townhouse Inside Unit']\n",
      "['', '']\n",
      "['HouseStyle: Style of dwelling']\n",
      "['', '']\n",
      "['       1Story', 'One story']\n",
      "['       1.5Fin', 'One and one-half story: 2nd level finished']\n",
      "['       1.5Unf', 'One and one-half story: 2nd level unfinished']\n",
      "['       2Story', 'Two story']\n",
      "['       2.5Fin', 'Two and one-half story: 2nd level finished']\n",
      "['       2.5Unf', 'Two and one-half story: 2nd level unfinished']\n",
      "['       SFoyer', 'Split Foyer']\n",
      "['       SLvl', 'Split Level']\n",
      "['', '']\n",
      "['OverallQual: Rates the overall material and finish of the house']\n",
      "[]\n",
      "['       10', 'Very Excellent']\n",
      "['       9', 'Excellent']\n",
      "['       8', 'Very Good']\n",
      "['       7', 'Good']\n",
      "['       6', 'Above Average']\n",
      "['       5', 'Average']\n",
      "['       4', 'Below Average']\n",
      "['       3', 'Fair']\n",
      "['       2', 'Poor']\n",
      "['       1', 'Very Poor']\n",
      "['', '']\n",
      "['OverallCond: Rates the overall condition of the house']\n",
      "[]\n",
      "['       10', 'Very Excellent']\n",
      "['       9', 'Excellent']\n",
      "['       8', 'Very Good']\n",
      "['       7', 'Good']\n",
      "['       6', 'Above Average', '']\n",
      "['       5', 'Average']\n",
      "['       4', 'Below Average', '']\n",
      "['       3', 'Fair']\n",
      "['       2', 'Poor']\n",
      "['       1', 'Very Poor']\n",
      "['', '', '']\n",
      "['YearBuilt: Original construction date']\n",
      "[]\n",
      "['YearRemodAdd: Remodel date (same as construction date if no remodeling or additions)']\n",
      "[]\n",
      "['RoofStyle: Type of roof']\n",
      "[]\n",
      "['       Flat', 'Flat']\n",
      "['       Gable', 'Gable']\n",
      "['       Gambrel', 'Gabrel (Barn)']\n",
      "['       Hip', 'Hip']\n",
      "['       Mansard', 'Mansard']\n",
      "['       Shed', 'Shed']\n",
      "['', '', '']\n",
      "['RoofMatl: Roof material']\n",
      "[]\n",
      "['       ClyTile', 'Clay or Tile']\n",
      "['       CompShg', 'Standard (Composite) Shingle']\n",
      "['       Membran', 'Membrane']\n",
      "['       Metal', 'Metal']\n",
      "['       Roll', 'Roll']\n",
      "['       Tar&Grv', 'Gravel & Tar']\n",
      "['       WdShake', 'Wood Shakes']\n",
      "['       WdShngl', 'Wood Shingles']\n",
      "['', '', '']\n",
      "['Exterior1st: Exterior covering on house']\n",
      "[]\n",
      "['       AsbShng', 'Asbestos Shingles']\n",
      "['       AsphShn', 'Asphalt Shingles']\n",
      "['       BrkComm', 'Brick Common']\n",
      "['       BrkFace', 'Brick Face']\n",
      "['       CBlock', 'Cinder Block']\n",
      "['       CemntBd', 'Cement Board']\n",
      "['       HdBoard', 'Hard Board']\n",
      "['       ImStucc', 'Imitation Stucco']\n",
      "['       MetalSd', 'Metal Siding']\n",
      "['       Other', 'Other']\n",
      "['       Plywood', 'Plywood']\n",
      "['       PreCast', 'PreCast', '']\n",
      "['       Stone', 'Stone']\n",
      "['       Stucco', 'Stucco']\n",
      "['       VinylSd', 'Vinyl Siding']\n",
      "['       Wd Sdng', 'Wood Siding']\n",
      "['       WdShing', 'Wood Shingles']\n",
      "['', '']\n",
      "['Exterior2nd: Exterior covering on house (if more than one material)']\n",
      "[]\n",
      "['       AsbShng', 'Asbestos Shingles']\n",
      "['       AsphShn', 'Asphalt Shingles']\n",
      "['       BrkComm', 'Brick Common']\n",
      "['       BrkFace', 'Brick Face']\n",
      "['       CBlock', 'Cinder Block']\n",
      "['       CemntBd', 'Cement Board']\n",
      "['       HdBoard', 'Hard Board']\n",
      "['       ImStucc', 'Imitation Stucco']\n",
      "['       MetalSd', 'Metal Siding']\n",
      "['       Other', 'Other']\n",
      "['       Plywood', 'Plywood']\n",
      "['       PreCast', 'PreCast']\n",
      "['       Stone', 'Stone']\n",
      "['       Stucco', 'Stucco']\n",
      "['       VinylSd', 'Vinyl Siding']\n",
      "['       Wd Sdng', 'Wood Siding']\n",
      "['       WdShing', 'Wood Shingles']\n",
      "['', '']\n",
      "['MasVnrType: Masonry veneer type']\n",
      "[]\n",
      "['       BrkCmn', 'Brick Common']\n",
      "['       BrkFace', 'Brick Face']\n",
      "['       CBlock', 'Cinder Block']\n",
      "['       None', 'None']\n",
      "['       Stone', 'Stone']\n",
      "['', '']\n",
      "['MasVnrArea: Masonry veneer area in square feet']\n",
      "[]\n",
      "['ExterQual: Evaluates the quality of the material on the exterior ']\n",
      "['', '', '']\n",
      "['       Ex', 'Excellent']\n",
      "['       Gd', 'Good']\n",
      "['       TA', 'Average/Typical']\n",
      "['       Fa', 'Fair']\n",
      "['       Po', 'Poor']\n",
      "['', '', '']\n",
      "['ExterCond: Evaluates the present condition of the material on the exterior']\n",
      "['', '', '']\n",
      "['       Ex', 'Excellent']\n",
      "['       Gd', 'Good']\n",
      "['       TA', 'Average/Typical']\n",
      "['       Fa', 'Fair']\n",
      "['       Po', 'Poor']\n",
      "['', '', '']\n",
      "['Foundation: Type of foundation']\n",
      "['', '', '']\n",
      "['       BrkTil', 'Brick & Tile']\n",
      "['       CBlock', 'Cinder Block']\n",
      "['       PConc', 'Poured Contrete', '']\n",
      "['       Slab', 'Slab']\n",
      "['       Stone', 'Stone']\n",
      "['       Wood', 'Wood']\n",
      "['', '', '']\n",
      "['BsmtQual: Evaluates the height of the basement']\n",
      "[]\n",
      "['       Ex', 'Excellent (100+ inches)', '']\n",
      "['       Gd', 'Good (90-99 inches)']\n",
      "['       TA', 'Typical (80-89 inches)']\n",
      "['       Fa', 'Fair (70-79 inches)']\n",
      "['       Po', 'Poor (<70 inches']\n",
      "['       NA', 'No Basement']\n",
      "['', '', '']\n",
      "['BsmtCond: Evaluates the general condition of the basement']\n",
      "[]\n",
      "['       Ex', 'Excellent']\n",
      "['       Gd', 'Good']\n",
      "['       TA', 'Typical - slight dampness allowed']\n",
      "['       Fa', 'Fair - dampness or some cracking or settling']\n",
      "['       Po', 'Poor - Severe cracking, settling, or wetness']\n",
      "['       NA', 'No Basement']\n",
      "['', '']\n",
      "['BsmtExposure: Refers to walkout or garden level walls']\n",
      "[]\n",
      "['       Gd', 'Good Exposure']\n",
      "['       Av', 'Average Exposure (split levels or foyers typically score average or above)', '']\n",
      "['       Mn', 'Mimimum Exposure']\n",
      "['       No', 'No Exposure']\n",
      "['       NA', 'No Basement']\n",
      "['', '']\n",
      "['BsmtFinType1: Rating of basement finished area']\n",
      "[]\n",
      "['       GLQ', 'Good Living Quarters']\n",
      "['       ALQ', 'Average Living Quarters']\n",
      "['       BLQ', 'Below Average Living Quarters', '']\n",
      "['       Rec', 'Average Rec Room']\n",
      "['       LwQ', 'Low Quality']\n",
      "['       Unf', 'Unfinshed']\n",
      "['       NA', 'No Basement']\n",
      "['', '', '']\n",
      "['BsmtFinSF1: Type 1 finished square feet']\n",
      "[]\n",
      "['BsmtFinType2: Rating of basement finished area (if multiple types)']\n",
      "[]\n",
      "['       GLQ', 'Good Living Quarters']\n",
      "['       ALQ', 'Average Living Quarters']\n",
      "['       BLQ', 'Below Average Living Quarters', '']\n",
      "['       Rec', 'Average Rec Room']\n",
      "['       LwQ', 'Low Quality']\n",
      "['       Unf', 'Unfinshed']\n",
      "['       NA', 'No Basement']\n",
      "[]\n",
      "['BsmtFinSF2: Type 2 finished square feet']\n",
      "[]\n",
      "['BsmtUnfSF: Unfinished square feet of basement area']\n",
      "[]\n",
      "['TotalBsmtSF: Total square feet of basement area']\n",
      "[]\n",
      "['Heating: Type of heating']\n",
      "['', '', '']\n",
      "['       Floor', 'Floor Furnace']\n",
      "['       GasA', 'Gas forced warm air furnace']\n",
      "['       GasW', 'Gas hot water or steam heat']\n",
      "['       Grav', 'Gravity furnace', '']\n",
      "['       OthW', 'Hot water or steam heat other than gas']\n",
      "['       Wall', 'Wall furnace']\n",
      "['', '', '']\n",
      "['HeatingQC: Heating quality and condition']\n",
      "[]\n",
      "['       Ex', 'Excellent']\n",
      "['       Gd', 'Good']\n",
      "['       TA', 'Average/Typical']\n",
      "['       Fa', 'Fair']\n",
      "['       Po', 'Poor']\n",
      "['', '', '']\n",
      "['CentralAir: Central air conditioning']\n",
      "[]\n",
      "['       N', 'No']\n",
      "['       Y', 'Yes']\n",
      "['', '', '']\n",
      "['Electrical: Electrical system']\n",
      "[]\n",
      "['       SBrkr', 'Standard Circuit Breakers & Romex']\n",
      "['       FuseA', 'Fuse Box over 60 AMP and all Romex wiring (Average)', '']\n",
      "['       FuseF', '60 AMP Fuse Box and mostly Romex wiring (Fair)']\n",
      "['       FuseP', '60 AMP Fuse Box and mostly knob & tube wiring (poor)']\n",
      "['       Mix', 'Mixed']\n",
      "['', '', '']\n",
      "['1stFlrSF: First Floor square feet']\n",
      "[' ']\n",
      "['2ndFlrSF: Second floor square feet']\n",
      "[]\n",
      "['LowQualFinSF: Low quality finished square feet (all floors)']\n",
      "[]\n",
      "['GrLivArea: Above grade (ground) living area square feet']\n",
      "[]\n",
      "['BsmtFullBath: Basement full bathrooms']\n",
      "[]\n",
      "['BsmtHalfBath: Basement half bathrooms']\n",
      "[]\n",
      "['FullBath: Full bathrooms above grade']\n",
      "[]\n",
      "['HalfBath: Half baths above grade']\n",
      "[]\n",
      "['Bedroom: Bedrooms above grade (does NOT include basement bedrooms)']\n",
      "[]\n",
      "['KitchenAbvGr: Kitchens above grade']\n",
      "[]\n",
      "['KitchenQual: Kitchen quality']\n",
      "[]\n",
      "['       Ex', 'Excellent']\n",
      "['       Gd', 'Good']\n",
      "['       TA', 'Typical/Average']\n",
      "['       Fa', 'Fair']\n",
      "['       Po', 'Poor']\n",
      "['       ', '']\n",
      "['TotRmsAbvGrd: Total rooms above grade (does not include bathrooms)']\n",
      "[]\n",
      "['Functional: Home functionality (Assume typical unless deductions are warranted)']\n",
      "[]\n",
      "['       Typ', 'Typical Functionality']\n",
      "['       Min1', 'Minor Deductions 1']\n",
      "['       Min2', 'Minor Deductions 2']\n",
      "['       Mod', 'Moderate Deductions']\n",
      "['       Maj1', 'Major Deductions 1']\n",
      "['       Maj2', 'Major Deductions 2']\n",
      "['       Sev', 'Severely Damaged']\n",
      "['       Sal', 'Salvage only']\n",
      "['', '', '']\n",
      "['Fireplaces: Number of fireplaces']\n",
      "[]\n",
      "['FireplaceQu: Fireplace quality']\n",
      "[]\n",
      "['       Ex', 'Excellent - Exceptional Masonry Fireplace']\n",
      "['       Gd', 'Good - Masonry Fireplace in main level']\n",
      "['       TA', 'Average - Prefabricated Fireplace in main living area or Masonry Fireplace in basement']\n",
      "['       Fa', 'Fair - Prefabricated Fireplace in basement']\n",
      "['       Po', 'Poor - Ben Franklin Stove']\n",
      "['       NA', 'No Fireplace']\n",
      "['', '', '']\n",
      "['GarageType: Garage location']\n",
      "['', '', '']\n",
      "['       2Types', 'More than one type of garage']\n",
      "['       Attchd', 'Attached to home']\n",
      "['       Basment', 'Basement Garage']\n",
      "['       BuiltIn', 'Built-In (Garage part of house - typically has room above garage)']\n",
      "['       CarPort', 'Car Port']\n",
      "['       Detchd', 'Detached from home']\n",
      "['       NA', 'No Garage']\n",
      "['', '', '']\n",
      "['GarageYrBlt: Year garage was built']\n",
      "['', '', '']\n",
      "['GarageFinish: Interior finish of the garage']\n",
      "[]\n",
      "['       Fin', 'Finished']\n",
      "['       RFn', 'Rough Finished', '']\n",
      "['       Unf', 'Unfinished']\n",
      "['       NA', 'No Garage']\n",
      "['', '', '']\n",
      "['GarageCars: Size of garage in car capacity']\n",
      "[]\n",
      "['GarageArea: Size of garage in square feet']\n",
      "[]\n",
      "['GarageQual: Garage quality']\n",
      "[]\n",
      "['       Ex', 'Excellent']\n",
      "['       Gd', 'Good']\n",
      "['       TA', 'Typical/Average']\n",
      "['       Fa', 'Fair']\n",
      "['       Po', 'Poor']\n",
      "['       NA', 'No Garage']\n",
      "['', '', '']\n",
      "['GarageCond: Garage condition']\n",
      "[]\n",
      "['       Ex', 'Excellent']\n",
      "['       Gd', 'Good']\n",
      "['       TA', 'Typical/Average']\n",
      "['       Fa', 'Fair']\n",
      "['       Po', 'Poor']\n",
      "['       NA', 'No Garage']\n",
      "['', '', '']\n",
      "['PavedDrive: Paved driveway']\n",
      "[]\n",
      "['       Y', 'Paved ']\n",
      "['       P', 'Partial Pavement']\n",
      "['       N', 'Dirt/Gravel']\n",
      "['', '', '']\n",
      "['WoodDeckSF: Wood deck area in square feet']\n",
      "[]\n",
      "['OpenPorchSF: Open porch area in square feet']\n",
      "[]\n",
      "['EnclosedPorch: Enclosed porch area in square feet']\n",
      "[]\n",
      "['3SsnPorch: Three season porch area in square feet']\n",
      "[]\n",
      "['ScreenPorch: Screen porch area in square feet']\n",
      "[]\n",
      "['PoolArea: Pool area in square feet']\n",
      "[]\n",
      "['PoolQC: Pool quality']\n",
      "['', '', '']\n",
      "['       Ex', 'Excellent']\n",
      "['       Gd', 'Good']\n",
      "['       TA', 'Average/Typical']\n",
      "['       Fa', 'Fair']\n",
      "['       NA', 'No Pool']\n",
      "['', '', '']\n",
      "['Fence: Fence quality']\n",
      "['', '', '']\n",
      "['       GdPrv', 'Good Privacy']\n",
      "['       MnPrv', 'Minimum Privacy']\n",
      "['       GdWo', 'Good Wood']\n",
      "['       MnWw', 'Minimum Wood/Wire']\n",
      "['       NA', 'No Fence']\n",
      "['', '']\n",
      "['MiscFeature: Miscellaneous feature not covered in other categories']\n",
      "['', '', '']\n",
      "['       Elev', 'Elevator']\n",
      "['       Gar2', '2nd Garage (if not described in garage section)']\n",
      "['       Othr', 'Other']\n",
      "['       Shed', 'Shed (over 100 SF)']\n",
      "['       TenC', 'Tennis Court']\n",
      "['       NA', 'None']\n",
      "['', '', '']\n",
      "['MiscVal: $Value of miscellaneous feature']\n",
      "[]\n",
      "['MoSold: Month Sold (MM)']\n",
      "[]\n",
      "['YrSold: Year Sold (YYYY)']\n",
      "[]\n",
      "['SaleType: Type of sale']\n",
      "['', '', '']\n",
      "['       WD ', 'Warranty Deed - Conventional']\n",
      "['       CWD', 'Warranty Deed - Cash']\n",
      "['       VWD', 'Warranty Deed - VA Loan']\n",
      "['       New', 'Home just constructed and sold']\n",
      "['       COD', 'Court Officer Deed/Estate']\n",
      "['       Con', 'Contract 15% Down payment regular terms']\n",
      "['       ConLw', 'Contract Low Down payment and low interest']\n",
      "['       ConLI', 'Contract Low Interest']\n",
      "['       ConLD', 'Contract Low Down']\n",
      "['       Oth', 'Other']\n",
      "['', '', '']\n",
      "['SaleCondition: Condition of sale']\n",
      "[]\n",
      "['       Normal', 'Normal Sale']\n",
      "['       Abnorml', 'Abnormal Sale -  trade, foreclosure, short sale']\n",
      "['       AdjLand', 'Adjoining Land Purchase']\n",
      "['       Alloca', 'Allocation - two linked properties with separate deeds, typically condo with a garage unit', '']\n",
      "['       Family', 'Sale between family members']\n",
      "['       Partial', 'Home was not completed when last assessed (associated with New Homes)']\n"
     ]
    }
   ],
   "source": [
    "import csv\n",
    "with open('data/data_description.txt', newline = '') as f:\n",
    "    reader = csv.reader(f, delimiter='\\t')\n",
    "    for row in reader:\n",
    "        print(row)\n"
   ]
  },
  {
   "cell_type": "code",
   "execution_count": null,
   "metadata": {},
   "outputs": [],
   "source": []
  },
  {
   "cell_type": "code",
   "execution_count": null,
   "metadata": {},
   "outputs": [],
   "source": []
  },
  {
   "cell_type": "code",
   "execution_count": null,
   "metadata": {},
   "outputs": [],
   "source": []
  },
  {
   "cell_type": "code",
   "execution_count": null,
   "metadata": {},
   "outputs": [],
   "source": []
  },
  {
   "cell_type": "code",
   "execution_count": null,
   "metadata": {},
   "outputs": [],
   "source": []
  },
  {
   "cell_type": "markdown",
   "metadata": {},
   "source": [
    "# EDA with Pandas - Cumulative Lab\n",
    "\n",
    "## Introduction\n",
    "\n",
    "In this section, you've learned a lot about importing, cleaning up, analyzing (using descriptive statistics) and visualizing data. In this cumulative lab, you'll get a chance to practice all of these skills with the Ames Housing dataset, which contains information about home sales in Ames, Iowa between 2006 and 2010.\n",
    "\n",
    "## Objectives\n",
    "\n",
    "You will be able to:\n",
    "\n",
    "* Practice loading data with pandas\n",
    "* Practice calculating measures of centrality and dispersion with pandas\n",
    "* Practice creating subsets of data with pandas\n",
    "* Practice using data visualizations to explore data, and interpreting those visualizations\n",
    "* Perform a full exploratory data analysis process to gain insight about a dataset "
   ]
  },
  {
   "cell_type": "markdown",
   "metadata": {},
   "source": [
    "## Your Task: Explore the Ames Housing Dataset with Pandas\n",
    "\n",
    "![aerial photo of a neighborhood](images/neighborhood_aerial.jpg)\n",
    "\n",
    "Photo by <a href=\"https://unsplash.com/@mattdonders?utm_source=unsplash&utm_medium=referral&utm_content=creditCopyText\">Matt Donders</a> on <a href=\"/@mattdonders?utm_source=unsplash&utm_medium=referral&utm_content=creditCopyText\">Unsplash</a>\n",
    "\n"
   ]
  },
  {
   "cell_type": "markdown",
   "metadata": {},
   "source": [
    "### Data Understanding\n",
    "\n",
    "Each record (row) in this dataset represents a home that was sold in Ames, IA.\n",
    "\n",
    "Each feature (column) in this dataset is some attribute of that home sale. You can view the file `data/data_description.txt` in this repository for a full explanation of all variables in this dataset — 80 columns in total.\n",
    "\n",
    "We are going to focus on the following features:\n",
    "\n",
    "**SalePrice**: `Sale price of the house in dollars`\n",
    "\n",
    "**TotRmsAbvGrd**: `Total rooms above grade (does not include bathrooms)`\n",
    "\n",
    "**OverallCond**: `Rates the overall condition of the house`\n",
    "```\n",
    "       10\tVery Excellent\n",
    "       9\t Excellent\n",
    "       8\t Very Good\n",
    "       7\t Good\n",
    "       6\t Above Average\t\n",
    "       5\t Average\n",
    "       4\t Below Average\t\n",
    "       3\t Fair\n",
    "       2\t Poor\n",
    "       1\t Very Poor\n",
    "```\n",
    "\n",
    "**YrSold**: `Year Sold (YYYY)`\n",
    "\n",
    "**YearBuilt**: `Original construction date`\n",
    "\n",
    "**LandSlope**: `Slope of property`\n",
    "```\n",
    "       Gtl\tGentle slope\n",
    "       Mod\tModerate Slope\t\n",
    "       Sev\tSevere Slope\n",
    "```"
   ]
  },
  {
   "cell_type": "markdown",
   "metadata": {},
   "source": [
    "### Requirements\n",
    "\n",
    "In this lab you will use your data munging and visualization skills to conduct an exploratory analysis of the dataset.\n",
    "\n",
    "#### 1. Load the Dataset with Pandas\n",
    "\n",
    "Import pandas with the standard alias `pd` and load the data into a dataframe with the standard name `df`.\n",
    "\n",
    "#### 2. Explore Data Distributions\n",
    "\n",
    "Produce summary statistics, visualizations, and interpretive text describing the distributions of `SalePrice`, `TotRmsAbvGrd`, and `OverallCond`.\n",
    "\n",
    "#### 3. Explore Differences between Subsets\n",
    "\n",
    "Separate the data into subsets based on `OverallCond`, then demonstrate how this split impacts the distribution of `SalePrice`.\n",
    "\n",
    "#### 4. Explore Correlations\n",
    "\n",
    "Find the features that have the strongest positive and negative correlations with `SalePrice`, and produce plots representing these relationships.\n",
    "\n",
    "#### 5. Engineer and Explore a New Feature\n",
    "\n",
    "Create a new feature `Age`, which represents the difference between the year sold and the year built, and plot the relationship between the age and sale price."
   ]
  },
  {
   "cell_type": "markdown",
   "metadata": {},
   "source": [
    "## 1. Load the Dataset with Pandas\n",
    "\n",
    "In the cell below, import:\n",
    "* `pandas` with the standard alias `pd`\n",
    "* `matplotlib.pyplot` with the standard alias `plt`\n",
    "\n",
    "And set `%matplotlib inline` so the graphs will display immediately below the cell that creates them."
   ]
  },
  {
   "cell_type": "code",
   "execution_count": 3,
   "metadata": {},
   "outputs": [],
   "source": [
    "# Your code here\n",
    "import pandas as pd\n",
    "import matplotlib.pyplot as plt\n",
    "%matplotlib inline"
   ]
  },
  {
   "cell_type": "markdown",
   "metadata": {},
   "source": [
    "Now, use pandas to open the file located at `data/ames.csv` ([documentation here](https://pandas.pydata.org/pandas-docs/stable/reference/api/pandas.read_csv.html)). Specify the argument `index_col=0` in order to avoid creating an extra `Id` column. Name the resulting dataframe `df`."
   ]
  },
  {
   "cell_type": "code",
   "execution_count": 4,
   "metadata": {
    "scrolled": true
   },
   "outputs": [],
   "source": [
    "# Your code here\n",
    "df = pd.read_csv('data/ames.csv', index_col = 0)"
   ]
  },
  {
   "cell_type": "markdown",
   "metadata": {},
   "source": [
    "The following code checks that you loaded the data correctly:"
   ]
  },
  {
   "cell_type": "code",
   "execution_count": 5,
   "metadata": {},
   "outputs": [],
   "source": [
    "# Run this cell without changes\n",
    "\n",
    "# Check that df is a dataframe\n",
    "assert type(df) == pd.DataFrame\n",
    "\n",
    "# Check that there are the correct number of rows\n",
    "assert df.shape[0] == 1460\n",
    "\n",
    "# Check that there are the correct number of columns\n",
    "# (if this crashes, make sure you specified `index_col=0`)\n",
    "assert df.shape[1] == 80"
   ]
  },
  {
   "cell_type": "markdown",
   "metadata": {},
   "source": [
    "Inspect the contents of the dataframe:"
   ]
  },
  {
   "cell_type": "code",
   "execution_count": 6,
   "metadata": {
    "scrolled": true
   },
   "outputs": [
    {
     "data": {
      "text/html": [
       "<div>\n",
       "<style scoped>\n",
       "    .dataframe tbody tr th:only-of-type {\n",
       "        vertical-align: middle;\n",
       "    }\n",
       "\n",
       "    .dataframe tbody tr th {\n",
       "        vertical-align: top;\n",
       "    }\n",
       "\n",
       "    .dataframe thead th {\n",
       "        text-align: right;\n",
       "    }\n",
       "</style>\n",
       "<table border=\"1\" class=\"dataframe\">\n",
       "  <thead>\n",
       "    <tr style=\"text-align: right;\">\n",
       "      <th></th>\n",
       "      <th>MSSubClass</th>\n",
       "      <th>MSZoning</th>\n",
       "      <th>LotFrontage</th>\n",
       "      <th>LotArea</th>\n",
       "      <th>Street</th>\n",
       "      <th>Alley</th>\n",
       "      <th>LotShape</th>\n",
       "      <th>LandContour</th>\n",
       "      <th>Utilities</th>\n",
       "      <th>LotConfig</th>\n",
       "      <th>...</th>\n",
       "      <th>PoolArea</th>\n",
       "      <th>PoolQC</th>\n",
       "      <th>Fence</th>\n",
       "      <th>MiscFeature</th>\n",
       "      <th>MiscVal</th>\n",
       "      <th>MoSold</th>\n",
       "      <th>YrSold</th>\n",
       "      <th>SaleType</th>\n",
       "      <th>SaleCondition</th>\n",
       "      <th>SalePrice</th>\n",
       "    </tr>\n",
       "    <tr>\n",
       "      <th>Id</th>\n",
       "      <th></th>\n",
       "      <th></th>\n",
       "      <th></th>\n",
       "      <th></th>\n",
       "      <th></th>\n",
       "      <th></th>\n",
       "      <th></th>\n",
       "      <th></th>\n",
       "      <th></th>\n",
       "      <th></th>\n",
       "      <th></th>\n",
       "      <th></th>\n",
       "      <th></th>\n",
       "      <th></th>\n",
       "      <th></th>\n",
       "      <th></th>\n",
       "      <th></th>\n",
       "      <th></th>\n",
       "      <th></th>\n",
       "      <th></th>\n",
       "      <th></th>\n",
       "    </tr>\n",
       "  </thead>\n",
       "  <tbody>\n",
       "    <tr>\n",
       "      <th>1</th>\n",
       "      <td>60</td>\n",
       "      <td>RL</td>\n",
       "      <td>65.0</td>\n",
       "      <td>8450</td>\n",
       "      <td>Pave</td>\n",
       "      <td>NaN</td>\n",
       "      <td>Reg</td>\n",
       "      <td>Lvl</td>\n",
       "      <td>AllPub</td>\n",
       "      <td>Inside</td>\n",
       "      <td>...</td>\n",
       "      <td>0</td>\n",
       "      <td>NaN</td>\n",
       "      <td>NaN</td>\n",
       "      <td>NaN</td>\n",
       "      <td>0</td>\n",
       "      <td>2</td>\n",
       "      <td>2008</td>\n",
       "      <td>WD</td>\n",
       "      <td>Normal</td>\n",
       "      <td>208500</td>\n",
       "    </tr>\n",
       "    <tr>\n",
       "      <th>2</th>\n",
       "      <td>20</td>\n",
       "      <td>RL</td>\n",
       "      <td>80.0</td>\n",
       "      <td>9600</td>\n",
       "      <td>Pave</td>\n",
       "      <td>NaN</td>\n",
       "      <td>Reg</td>\n",
       "      <td>Lvl</td>\n",
       "      <td>AllPub</td>\n",
       "      <td>FR2</td>\n",
       "      <td>...</td>\n",
       "      <td>0</td>\n",
       "      <td>NaN</td>\n",
       "      <td>NaN</td>\n",
       "      <td>NaN</td>\n",
       "      <td>0</td>\n",
       "      <td>5</td>\n",
       "      <td>2007</td>\n",
       "      <td>WD</td>\n",
       "      <td>Normal</td>\n",
       "      <td>181500</td>\n",
       "    </tr>\n",
       "    <tr>\n",
       "      <th>3</th>\n",
       "      <td>60</td>\n",
       "      <td>RL</td>\n",
       "      <td>68.0</td>\n",
       "      <td>11250</td>\n",
       "      <td>Pave</td>\n",
       "      <td>NaN</td>\n",
       "      <td>IR1</td>\n",
       "      <td>Lvl</td>\n",
       "      <td>AllPub</td>\n",
       "      <td>Inside</td>\n",
       "      <td>...</td>\n",
       "      <td>0</td>\n",
       "      <td>NaN</td>\n",
       "      <td>NaN</td>\n",
       "      <td>NaN</td>\n",
       "      <td>0</td>\n",
       "      <td>9</td>\n",
       "      <td>2008</td>\n",
       "      <td>WD</td>\n",
       "      <td>Normal</td>\n",
       "      <td>223500</td>\n",
       "    </tr>\n",
       "    <tr>\n",
       "      <th>4</th>\n",
       "      <td>70</td>\n",
       "      <td>RL</td>\n",
       "      <td>60.0</td>\n",
       "      <td>9550</td>\n",
       "      <td>Pave</td>\n",
       "      <td>NaN</td>\n",
       "      <td>IR1</td>\n",
       "      <td>Lvl</td>\n",
       "      <td>AllPub</td>\n",
       "      <td>Corner</td>\n",
       "      <td>...</td>\n",
       "      <td>0</td>\n",
       "      <td>NaN</td>\n",
       "      <td>NaN</td>\n",
       "      <td>NaN</td>\n",
       "      <td>0</td>\n",
       "      <td>2</td>\n",
       "      <td>2006</td>\n",
       "      <td>WD</td>\n",
       "      <td>Abnorml</td>\n",
       "      <td>140000</td>\n",
       "    </tr>\n",
       "    <tr>\n",
       "      <th>5</th>\n",
       "      <td>60</td>\n",
       "      <td>RL</td>\n",
       "      <td>84.0</td>\n",
       "      <td>14260</td>\n",
       "      <td>Pave</td>\n",
       "      <td>NaN</td>\n",
       "      <td>IR1</td>\n",
       "      <td>Lvl</td>\n",
       "      <td>AllPub</td>\n",
       "      <td>FR2</td>\n",
       "      <td>...</td>\n",
       "      <td>0</td>\n",
       "      <td>NaN</td>\n",
       "      <td>NaN</td>\n",
       "      <td>NaN</td>\n",
       "      <td>0</td>\n",
       "      <td>12</td>\n",
       "      <td>2008</td>\n",
       "      <td>WD</td>\n",
       "      <td>Normal</td>\n",
       "      <td>250000</td>\n",
       "    </tr>\n",
       "    <tr>\n",
       "      <th>...</th>\n",
       "      <td>...</td>\n",
       "      <td>...</td>\n",
       "      <td>...</td>\n",
       "      <td>...</td>\n",
       "      <td>...</td>\n",
       "      <td>...</td>\n",
       "      <td>...</td>\n",
       "      <td>...</td>\n",
       "      <td>...</td>\n",
       "      <td>...</td>\n",
       "      <td>...</td>\n",
       "      <td>...</td>\n",
       "      <td>...</td>\n",
       "      <td>...</td>\n",
       "      <td>...</td>\n",
       "      <td>...</td>\n",
       "      <td>...</td>\n",
       "      <td>...</td>\n",
       "      <td>...</td>\n",
       "      <td>...</td>\n",
       "      <td>...</td>\n",
       "    </tr>\n",
       "    <tr>\n",
       "      <th>1456</th>\n",
       "      <td>60</td>\n",
       "      <td>RL</td>\n",
       "      <td>62.0</td>\n",
       "      <td>7917</td>\n",
       "      <td>Pave</td>\n",
       "      <td>NaN</td>\n",
       "      <td>Reg</td>\n",
       "      <td>Lvl</td>\n",
       "      <td>AllPub</td>\n",
       "      <td>Inside</td>\n",
       "      <td>...</td>\n",
       "      <td>0</td>\n",
       "      <td>NaN</td>\n",
       "      <td>NaN</td>\n",
       "      <td>NaN</td>\n",
       "      <td>0</td>\n",
       "      <td>8</td>\n",
       "      <td>2007</td>\n",
       "      <td>WD</td>\n",
       "      <td>Normal</td>\n",
       "      <td>175000</td>\n",
       "    </tr>\n",
       "    <tr>\n",
       "      <th>1457</th>\n",
       "      <td>20</td>\n",
       "      <td>RL</td>\n",
       "      <td>85.0</td>\n",
       "      <td>13175</td>\n",
       "      <td>Pave</td>\n",
       "      <td>NaN</td>\n",
       "      <td>Reg</td>\n",
       "      <td>Lvl</td>\n",
       "      <td>AllPub</td>\n",
       "      <td>Inside</td>\n",
       "      <td>...</td>\n",
       "      <td>0</td>\n",
       "      <td>NaN</td>\n",
       "      <td>MnPrv</td>\n",
       "      <td>NaN</td>\n",
       "      <td>0</td>\n",
       "      <td>2</td>\n",
       "      <td>2010</td>\n",
       "      <td>WD</td>\n",
       "      <td>Normal</td>\n",
       "      <td>210000</td>\n",
       "    </tr>\n",
       "    <tr>\n",
       "      <th>1458</th>\n",
       "      <td>70</td>\n",
       "      <td>RL</td>\n",
       "      <td>66.0</td>\n",
       "      <td>9042</td>\n",
       "      <td>Pave</td>\n",
       "      <td>NaN</td>\n",
       "      <td>Reg</td>\n",
       "      <td>Lvl</td>\n",
       "      <td>AllPub</td>\n",
       "      <td>Inside</td>\n",
       "      <td>...</td>\n",
       "      <td>0</td>\n",
       "      <td>NaN</td>\n",
       "      <td>GdPrv</td>\n",
       "      <td>Shed</td>\n",
       "      <td>2500</td>\n",
       "      <td>5</td>\n",
       "      <td>2010</td>\n",
       "      <td>WD</td>\n",
       "      <td>Normal</td>\n",
       "      <td>266500</td>\n",
       "    </tr>\n",
       "    <tr>\n",
       "      <th>1459</th>\n",
       "      <td>20</td>\n",
       "      <td>RL</td>\n",
       "      <td>68.0</td>\n",
       "      <td>9717</td>\n",
       "      <td>Pave</td>\n",
       "      <td>NaN</td>\n",
       "      <td>Reg</td>\n",
       "      <td>Lvl</td>\n",
       "      <td>AllPub</td>\n",
       "      <td>Inside</td>\n",
       "      <td>...</td>\n",
       "      <td>0</td>\n",
       "      <td>NaN</td>\n",
       "      <td>NaN</td>\n",
       "      <td>NaN</td>\n",
       "      <td>0</td>\n",
       "      <td>4</td>\n",
       "      <td>2010</td>\n",
       "      <td>WD</td>\n",
       "      <td>Normal</td>\n",
       "      <td>142125</td>\n",
       "    </tr>\n",
       "    <tr>\n",
       "      <th>1460</th>\n",
       "      <td>20</td>\n",
       "      <td>RL</td>\n",
       "      <td>75.0</td>\n",
       "      <td>9937</td>\n",
       "      <td>Pave</td>\n",
       "      <td>NaN</td>\n",
       "      <td>Reg</td>\n",
       "      <td>Lvl</td>\n",
       "      <td>AllPub</td>\n",
       "      <td>Inside</td>\n",
       "      <td>...</td>\n",
       "      <td>0</td>\n",
       "      <td>NaN</td>\n",
       "      <td>NaN</td>\n",
       "      <td>NaN</td>\n",
       "      <td>0</td>\n",
       "      <td>6</td>\n",
       "      <td>2008</td>\n",
       "      <td>WD</td>\n",
       "      <td>Normal</td>\n",
       "      <td>147500</td>\n",
       "    </tr>\n",
       "  </tbody>\n",
       "</table>\n",
       "<p>1460 rows × 80 columns</p>\n",
       "</div>"
      ],
      "text/plain": [
       "      MSSubClass MSZoning  LotFrontage  LotArea Street Alley LotShape  \\\n",
       "Id                                                                      \n",
       "1             60       RL         65.0     8450   Pave   NaN      Reg   \n",
       "2             20       RL         80.0     9600   Pave   NaN      Reg   \n",
       "3             60       RL         68.0    11250   Pave   NaN      IR1   \n",
       "4             70       RL         60.0     9550   Pave   NaN      IR1   \n",
       "5             60       RL         84.0    14260   Pave   NaN      IR1   \n",
       "...          ...      ...          ...      ...    ...   ...      ...   \n",
       "1456          60       RL         62.0     7917   Pave   NaN      Reg   \n",
       "1457          20       RL         85.0    13175   Pave   NaN      Reg   \n",
       "1458          70       RL         66.0     9042   Pave   NaN      Reg   \n",
       "1459          20       RL         68.0     9717   Pave   NaN      Reg   \n",
       "1460          20       RL         75.0     9937   Pave   NaN      Reg   \n",
       "\n",
       "     LandContour Utilities LotConfig  ... PoolArea PoolQC  Fence MiscFeature  \\\n",
       "Id                                    ...                                      \n",
       "1            Lvl    AllPub    Inside  ...        0    NaN    NaN         NaN   \n",
       "2            Lvl    AllPub       FR2  ...        0    NaN    NaN         NaN   \n",
       "3            Lvl    AllPub    Inside  ...        0    NaN    NaN         NaN   \n",
       "4            Lvl    AllPub    Corner  ...        0    NaN    NaN         NaN   \n",
       "5            Lvl    AllPub       FR2  ...        0    NaN    NaN         NaN   \n",
       "...          ...       ...       ...  ...      ...    ...    ...         ...   \n",
       "1456         Lvl    AllPub    Inside  ...        0    NaN    NaN         NaN   \n",
       "1457         Lvl    AllPub    Inside  ...        0    NaN  MnPrv         NaN   \n",
       "1458         Lvl    AllPub    Inside  ...        0    NaN  GdPrv        Shed   \n",
       "1459         Lvl    AllPub    Inside  ...        0    NaN    NaN         NaN   \n",
       "1460         Lvl    AllPub    Inside  ...        0    NaN    NaN         NaN   \n",
       "\n",
       "     MiscVal MoSold  YrSold  SaleType  SaleCondition  SalePrice  \n",
       "Id                                                               \n",
       "1          0      2    2008        WD         Normal     208500  \n",
       "2          0      5    2007        WD         Normal     181500  \n",
       "3          0      9    2008        WD         Normal     223500  \n",
       "4          0      2    2006        WD        Abnorml     140000  \n",
       "5          0     12    2008        WD         Normal     250000  \n",
       "...      ...    ...     ...       ...            ...        ...  \n",
       "1456       0      8    2007        WD         Normal     175000  \n",
       "1457       0      2    2010        WD         Normal     210000  \n",
       "1458    2500      5    2010        WD         Normal     266500  \n",
       "1459       0      4    2010        WD         Normal     142125  \n",
       "1460       0      6    2008        WD         Normal     147500  \n",
       "\n",
       "[1460 rows x 80 columns]"
      ]
     },
     "execution_count": 6,
     "metadata": {},
     "output_type": "execute_result"
    }
   ],
   "source": [
    "# Run this cell without changes\n",
    "df"
   ]
  },
  {
   "cell_type": "code",
   "execution_count": 7,
   "metadata": {
    "scrolled": true
   },
   "outputs": [
    {
     "name": "stdout",
     "output_type": "stream",
     "text": [
      "<class 'pandas.core.frame.DataFrame'>\n",
      "Int64Index: 1460 entries, 1 to 1460\n",
      "Data columns (total 80 columns):\n",
      " #   Column         Non-Null Count  Dtype  \n",
      "---  ------         --------------  -----  \n",
      " 0   MSSubClass     1460 non-null   int64  \n",
      " 1   MSZoning       1460 non-null   object \n",
      " 2   LotFrontage    1201 non-null   float64\n",
      " 3   LotArea        1460 non-null   int64  \n",
      " 4   Street         1460 non-null   object \n",
      " 5   Alley          91 non-null     object \n",
      " 6   LotShape       1460 non-null   object \n",
      " 7   LandContour    1460 non-null   object \n",
      " 8   Utilities      1460 non-null   object \n",
      " 9   LotConfig      1460 non-null   object \n",
      " 10  LandSlope      1460 non-null   object \n",
      " 11  Neighborhood   1460 non-null   object \n",
      " 12  Condition1     1460 non-null   object \n",
      " 13  Condition2     1460 non-null   object \n",
      " 14  BldgType       1460 non-null   object \n",
      " 15  HouseStyle     1460 non-null   object \n",
      " 16  OverallQual    1460 non-null   int64  \n",
      " 17  OverallCond    1460 non-null   int64  \n",
      " 18  YearBuilt      1460 non-null   int64  \n",
      " 19  YearRemodAdd   1460 non-null   int64  \n",
      " 20  RoofStyle      1460 non-null   object \n",
      " 21  RoofMatl       1460 non-null   object \n",
      " 22  Exterior1st    1460 non-null   object \n",
      " 23  Exterior2nd    1460 non-null   object \n",
      " 24  MasVnrType     1452 non-null   object \n",
      " 25  MasVnrArea     1452 non-null   float64\n",
      " 26  ExterQual      1460 non-null   object \n",
      " 27  ExterCond      1460 non-null   object \n",
      " 28  Foundation     1460 non-null   object \n",
      " 29  BsmtQual       1423 non-null   object \n",
      " 30  BsmtCond       1423 non-null   object \n",
      " 31  BsmtExposure   1422 non-null   object \n",
      " 32  BsmtFinType1   1423 non-null   object \n",
      " 33  BsmtFinSF1     1460 non-null   int64  \n",
      " 34  BsmtFinType2   1422 non-null   object \n",
      " 35  BsmtFinSF2     1460 non-null   int64  \n",
      " 36  BsmtUnfSF      1460 non-null   int64  \n",
      " 37  TotalBsmtSF    1460 non-null   int64  \n",
      " 38  Heating        1460 non-null   object \n",
      " 39  HeatingQC      1460 non-null   object \n",
      " 40  CentralAir     1460 non-null   object \n",
      " 41  Electrical     1459 non-null   object \n",
      " 42  1stFlrSF       1460 non-null   int64  \n",
      " 43  2ndFlrSF       1460 non-null   int64  \n",
      " 44  LowQualFinSF   1460 non-null   int64  \n",
      " 45  GrLivArea      1460 non-null   int64  \n",
      " 46  BsmtFullBath   1460 non-null   int64  \n",
      " 47  BsmtHalfBath   1460 non-null   int64  \n",
      " 48  FullBath       1460 non-null   int64  \n",
      " 49  HalfBath       1460 non-null   int64  \n",
      " 50  BedroomAbvGr   1460 non-null   int64  \n",
      " 51  KitchenAbvGr   1460 non-null   int64  \n",
      " 52  KitchenQual    1460 non-null   object \n",
      " 53  TotRmsAbvGrd   1460 non-null   int64  \n",
      " 54  Functional     1460 non-null   object \n",
      " 55  Fireplaces     1460 non-null   int64  \n",
      " 56  FireplaceQu    770 non-null    object \n",
      " 57  GarageType     1379 non-null   object \n",
      " 58  GarageYrBlt    1379 non-null   float64\n",
      " 59  GarageFinish   1379 non-null   object \n",
      " 60  GarageCars     1460 non-null   int64  \n",
      " 61  GarageArea     1460 non-null   int64  \n",
      " 62  GarageQual     1379 non-null   object \n",
      " 63  GarageCond     1379 non-null   object \n",
      " 64  PavedDrive     1460 non-null   object \n",
      " 65  WoodDeckSF     1460 non-null   int64  \n",
      " 66  OpenPorchSF    1460 non-null   int64  \n",
      " 67  EnclosedPorch  1460 non-null   int64  \n",
      " 68  3SsnPorch      1460 non-null   int64  \n",
      " 69  ScreenPorch    1460 non-null   int64  \n",
      " 70  PoolArea       1460 non-null   int64  \n",
      " 71  PoolQC         7 non-null      object \n",
      " 72  Fence          281 non-null    object \n",
      " 73  MiscFeature    54 non-null     object \n",
      " 74  MiscVal        1460 non-null   int64  \n",
      " 75  MoSold         1460 non-null   int64  \n",
      " 76  YrSold         1460 non-null   int64  \n",
      " 77  SaleType       1460 non-null   object \n",
      " 78  SaleCondition  1460 non-null   object \n",
      " 79  SalePrice      1460 non-null   int64  \n",
      "dtypes: float64(3), int64(34), object(43)\n",
      "memory usage: 923.9+ KB\n"
     ]
    }
   ],
   "source": [
    "# Run this cell without changes\n",
    "df.info()"
   ]
  },
  {
   "cell_type": "markdown",
   "metadata": {},
   "source": [
    "## 2. Explore Data Distributions\n",
    "\n",
    "Write code to produce histograms showing the distributions of `SalePrice`, `TotRmsAbvGrd`, and `OverallCond`.\n",
    "\n",
    "Each histogram should have appropriate title and axes labels, as well as a black vertical line indicating the mean of the dataset. See the documentation for [plotting histograms](https://matplotlib.org/stable/api/_as_gen/matplotlib.axes.Axes.hist.html), [customizing axes](https://matplotlib.org/stable/api/axes_api.html#axis-labels-title-and-legend), and [plotting vertical lines](https://matplotlib.org/stable/api/_as_gen/matplotlib.axes.Axes.axvline.html#matplotlib.axes.Axes.axvline) as needed."
   ]
  },
  {
   "cell_type": "markdown",
   "metadata": {},
   "source": [
    "### Sale Price\n",
    "\n",
    "In the cell below, produce a histogram for `SalePrice`."
   ]
  },
  {
   "cell_type": "code",
   "execution_count": 8,
   "metadata": {},
   "outputs": [
    {
     "data": {
      "image/png": "[encoded data removed]",
      "text/plain": [
       "<Figure size 432x288 with 1 Axes>"
      ]
     },
     "metadata": {
      "needs_background": "light"
     },
     "output_type": "display_data"
    }
   ],
   "source": [
    "# Your code here\n",
    "plt.hist(df['SalePrice'])\n",
    "plt.axvline(df['SalePrice'].mean(), color='black')\n",
    "plt.title(\"Selling Price\")\n",
    "plt.xlabel('SalePrice')\n",
    "plt.ylabel('Count');"
   ]
  },
  {
   "cell_type": "markdown",
   "metadata": {},
   "source": [
    "Now, print out the mean, median, and standard deviation:"
   ]
  },
  {
   "cell_type": "code",
   "execution_count": 9,
   "metadata": {
    "scrolled": true
   },
   "outputs": [
    {
     "name": "stdout",
     "output_type": "stream",
     "text": [
      "The Average Selling price = 180921.2\n",
      "The median Selling price = 163000.0\n",
      "The standard deviation of Selling price = 79442.5\n"
     ]
    }
   ],
   "source": [
    "# Your code here\n",
    "print(f\"The Average Selling price = {df['SalePrice'].mean().round(2)}\")\n",
    "print(f\"The median Selling price = {df['SalePrice'].median().round(2)}\")\n",
    "print(f\"The standard deviation of Selling price = {df['SalePrice'].std().round(2)}\")"
   ]
  },
  {
   "cell_type": "markdown",
   "metadata": {},
   "source": [
    "In the cell below, interpret the above information."
   ]
  },
  {
   "cell_type": "code",
   "execution_count": 10,
   "metadata": {},
   "outputs": [
    {
     "data": {
      "text/plain": [
       "'\\nFrom the above histogram, below average selling price is the majority with the houses below average being more. \\nThe houses with the highest prices are the least in the market.\\n'"
      ]
     },
     "execution_count": 10,
     "metadata": {},
     "output_type": "execute_result"
    }
   ],
   "source": [
    "# Replace None with appropriate text\n",
    "\"\"\"\n",
    "From the above histogram, below average selling price is the majority with the houses below average being more. \n",
    "The houses with the highest prices are the least in the market.\n",
    "\"\"\""
   ]
  },
  {
   "cell_type": "markdown",
   "metadata": {},
   "source": [
    "### Total Rooms Above Grade\n",
    "\n",
    "In the cell below, produce a histogram for `TotRmsAbvGrd`."
   ]
  },
  {
   "cell_type": "code",
   "execution_count": 11,
   "metadata": {},
   "outputs": [
    {
     "data": {
      "image/png": "[encoded data removed]",
      "text/plain": [
       "<Figure size 432x288 with 1 Axes>"
      ]
     },
     "metadata": {
      "needs_background": "light"
     },
     "output_type": "display_data"
    }
   ],
   "source": [
    "# Your code here\n",
    "plt.hist(df['TotRmsAbvGrd'])\n",
    "plt.axvline(df['TotRmsAbvGrd'].mean(), color='black')\n",
    "plt.title(\"Total rooms\")\n",
    "plt.xlabel('TotRmsAbvGrd')\n",
    "plt.ylabel('count');"
   ]
  },
  {
   "cell_type": "markdown",
   "metadata": {},
   "source": [
    "Now, print out the mean, median, and standard deviation:"
   ]
  },
  {
   "cell_type": "code",
   "execution_count": 12,
   "metadata": {},
   "outputs": [
    {
     "name": "stdout",
     "output_type": "stream",
     "text": [
      "The mean of Total number of rooms = 6.52\n",
      "The median Total number of rooms = 6.0\n",
      "The standard deviation Total number of rooms = 1.63\n"
     ]
    }
   ],
   "source": [
    "# Your code here\n",
    "print(f\"The mean of Total number of rooms = {df['TotRmsAbvGrd'].mean().round(2)}\")\n",
    "print(f\"The median Total number of rooms = {df['TotRmsAbvGrd'].median().round(2)}\")\n",
    "print(f\"The standard deviation Total number of rooms = {df['TotRmsAbvGrd'].std().round(2)}\")"
   ]
  },
  {
   "cell_type": "markdown",
   "metadata": {},
   "source": [
    "In the cell below, interpret the above information."
   ]
  },
  {
   "cell_type": "code",
   "execution_count": 13,
   "metadata": {},
   "outputs": [
    {
     "data": {
      "text/plain": [
       "'\\nThe histogram above shows that majority of houses in the market have around 6 rooms. Some homea have above average \\nnumber of roooms while other homes also have fewer below average rooms.\\n'"
      ]
     },
     "execution_count": 13,
     "metadata": {},
     "output_type": "execute_result"
    }
   ],
   "source": [
    "# Replace None with appropriate text\n",
    "\"\"\"\n",
    "The histogram above shows that majority of houses in the market have around 6 rooms. Some homea have above average \n",
    "number of roooms while other homes also have fewer below average rooms.\n",
    "\"\"\""
   ]
  },
  {
   "cell_type": "markdown",
   "metadata": {},
   "source": [
    "### Overall Condition\n",
    "\n",
    "In the cell below, produce a histogram for `OverallCond`."
   ]
  },
  {
   "cell_type": "code",
   "execution_count": 14,
   "metadata": {},
   "outputs": [
    {
     "data": {
      "image/png": "[encoded data removed]",
      "text/plain": [
       "<Figure size 432x288 with 1 Axes>"
      ]
     },
     "metadata": {
      "needs_background": "light"
     },
     "output_type": "display_data"
    }
   ],
   "source": [
    "# Your code here\n",
    "plt.hist(df['OverallCond'])\n",
    "plt.axvline(df['OverallCond'].mean(), color='black')\n",
    "plt.title(\"Overall Condition\")\n",
    "plt.xlabel('OverallCond')\n",
    "plt.ylabel('Count');"
   ]
  },
  {
   "cell_type": "markdown",
   "metadata": {},
   "source": [
    "Now, print out the mean, median, and standard deviation:"
   ]
  },
  {
   "cell_type": "code",
   "execution_count": 15,
   "metadata": {},
   "outputs": [
    {
     "name": "stdout",
     "output_type": "stream",
     "text": [
      "The mean of Overall Condition = 5.58\n",
      "The median of Overall Condition = 5.0\n",
      "The standard deviation of Overall Condition = 1.11\n"
     ]
    }
   ],
   "source": [
    "# Your code here\n",
    "print(f\"The mean of Overall Condition = {df['OverallCond'].mean().round(2)}\")\n",
    "print(f\"The median of Overall Condition = {df['OverallCond'].median().round(2)}\")\n",
    "print(f\"The standard deviation of Overall Condition = {df['OverallCond'].std().round(2)}\")"
   ]
  },
  {
   "cell_type": "markdown",
   "metadata": {},
   "source": [
    "In the cell below, interpret the above information."
   ]
  },
  {
   "cell_type": "code",
   "execution_count": 16,
   "metadata": {},
   "outputs": [
    {
     "data": {
      "text/plain": [
       "'\\nThe average OverallCond is 5.\\nThe graph shows that the majority of houses are of average condition with the least amount of houses being below average \\ncondition.\\n\\n'"
      ]
     },
     "execution_count": 16,
     "metadata": {},
     "output_type": "execute_result"
    }
   ],
   "source": [
    "# Replace None with appropriate text\n",
    "\"\"\"\n",
    "The average OverallCond is 5.\n",
    "The graph shows that the majority of houses are of average condition with the least amount of houses being below average \n",
    "condition.\n",
    "\n",
    "\"\"\""
   ]
  },
  {
   "cell_type": "markdown",
   "metadata": {},
   "source": [
    "## 3. Explore Differences between Subsets\n",
    "\n",
    "As you might have noted in the previous step, the overall condition of the house seems like we should treat it as more of a categorical variable, rather than a numeric variable.\n",
    "\n",
    "One useful way to explore a categorical variable is to create subsets of the full dataset based on that categorical variable, then plot their distributions based on some other variable. Since this dataset is traditionally used for predicting the sale price of a house, let's use `SalePrice` as that other variable.\n",
    "\n",
    "In the cell below, create three variables, each of which represents a record-wise subset of `df` (meaning, it has the same columns as `df`, but only some of the rows).\n",
    "\n",
    "* `below_average_condition`: home sales where the overall condition was less than 5\n",
    "* `average_condition`: home sales where the overall condition was exactly 5\n",
    "* `above_average_condition`: home sales where the overall condition was greater than 5"
   ]
  },
  {
   "cell_type": "code",
   "execution_count": 17,
   "metadata": {},
   "outputs": [],
   "source": [
    "# Replace None with appropriate code\n",
    "below_average_condition = df[df['OverallCond'] < 5]\n",
    "average_condition = df[df['OverallCond'] == 5]\n",
    "above_average_condition = df[df['OverallCond'] > 5]"
   ]
  },
  {
   "cell_type": "markdown",
   "metadata": {},
   "source": [
    "The following code checks that you created the subsets correctly:"
   ]
  },
  {
   "cell_type": "code",
   "execution_count": 18,
   "metadata": {},
   "outputs": [],
   "source": [
    "# Run this cell without changes\n",
    "\n",
    "# Check that all of them still have 80 columns\n",
    "assert below_average_condition.shape[1] == 80\n",
    "assert average_condition.shape[1] == 80\n",
    "assert above_average_condition.shape[1] == 80\n",
    "\n",
    "# Check the numbers of rows of each subset\n",
    "assert below_average_condition.shape[0] == 88\n",
    "assert average_condition.shape[0] == 821\n",
    "assert above_average_condition.shape[0] == 551"
   ]
  },
  {
   "cell_type": "markdown",
   "metadata": {},
   "source": [
    "The following code will produce a plot of the distributions of sale price for each of these subsets:"
   ]
  },
  {
   "cell_type": "code",
   "execution_count": 19,
   "metadata": {},
   "outputs": [
    {
     "data": {
      "image/png": "[encoded data removed]",
      "text/plain": [
       "<Figure size 1080x360 with 1 Axes>"
      ]
     },
     "metadata": {
      "needs_background": "light"
     },
     "output_type": "display_data"
    }
   ],
   "source": [
    "# Run this cell without changes\n",
    "\n",
    "# Set up plot\n",
    "fig, ax = plt.subplots(figsize=(15,5))\n",
    "\n",
    "# Create custom bins so all are on the same scale\n",
    "bins = range(df[\"SalePrice\"].min(), df[\"SalePrice\"].max(), int(df[\"SalePrice\"].median()) // 20)\n",
    "\n",
    "# Plot three histograms, with reduced opacity (alpha) so we\n",
    "# can see them overlapping\n",
    "ax.hist(\n",
    "    x=above_average_condition[\"SalePrice\"],\n",
    "    label=\"above average condition\",\n",
    "    bins=bins,\n",
    "    color=\"cyan\",\n",
    "    alpha=0.5\n",
    ")\n",
    "ax.hist(\n",
    "    x=average_condition[\"SalePrice\"],\n",
    "    label=\"average condition\",\n",
    "    bins=bins,\n",
    "    color=\"gray\",\n",
    "    alpha=0.3\n",
    ")\n",
    "ax.hist(\n",
    "    x=below_average_condition[\"SalePrice\"],\n",
    "    label=\"below average condition\",\n",
    "    bins=bins,\n",
    "    color=\"yellow\",\n",
    "    alpha=0.5\n",
    ")\n",
    "\n",
    "# Customize labels\n",
    "ax.set_title(\"Distributions of Sale Price Grouped by Condition\")\n",
    "ax.set_xlabel(\"Sale Price\")\n",
    "ax.set_ylabel(\"Number of Houses\")\n",
    "ax.legend();"
   ]
  },
  {
   "cell_type": "markdown",
   "metadata": {},
   "source": [
    "Interpret the plot above. What does it tell us about these overall condition categories, and the relationship between overall condition and sale price? Is there anything surprising?"
   ]
  },
  {
   "cell_type": "code",
   "execution_count": 20,
   "metadata": {},
   "outputs": [
    {
     "data": {
      "text/plain": [
       "'\\nFewer units of houses with below average conditions are sold and they generally have a lower price. compared to the others.\\nThe houses with above average condition gave higher prices compared to the below average condition houses and \\nalso more units are sold but with further increase in prices fewer units are sold. There might be other factors other than\\nconditions as the average condition houses sell more units even at higher compared to the above average conditions.\\n'"
      ]
     },
     "execution_count": 20,
     "metadata": {},
     "output_type": "execute_result"
    }
   ],
   "source": [
    "# Replace None with appropriate text\n",
    "\"\"\"\n",
    "Fewer units of houses with below average conditions are sold and they generally have a lower price. compared to the others.\n",
    "The houses with above average condition gave higher prices compared to the below average condition houses and \n",
    "also more units are sold but with further increase in prices fewer units are sold. There might be other factors other than\n",
    "conditions as the average condition houses sell more units even at higher compared to the above average conditions.\n",
    "\"\"\""
   ]
  },
  {
   "cell_type": "markdown",
   "metadata": {},
   "source": [
    "## 4. Explore Correlations\n",
    "\n",
    "To understand more about what features of these homes lead to higher sale prices, let's look at some correlations. We'll return to using the full `df`, rather than the subsets.\n",
    "\n",
    "In the cell below, print out both the name of the column and the Pearson correlation for the column that is ***most positively correlated*** with `SalePrice` (other than `SalePrice`, which is perfectly correlated with itself).\n",
    "\n",
    "We'll only check the correlations with some kind of numeric data type.\n",
    "\n",
    "You can import additional libraries, although it is possible to do this just using pandas."
   ]
  },
  {
   "cell_type": "code",
   "execution_count": 21,
   "metadata": {
    "scrolled": true
   },
   "outputs": [
    {
     "name": "stdout",
     "output_type": "stream",
     "text": [
      "most positively correlated is 'OverallQual' with a correlation of: '0.7909816005838047'\n"
     ]
    }
   ],
   "source": [
    "# Your code here\n",
    "import numpy as np\n",
    "correlations = df.corr()['SalePrice'].sort_values(ascending=False)\n",
    "print(f\"most positively correlated is '{correlations.index[1]}' with a correlation of: '{correlations[1]}'\")"
   ]
  },
  {
   "cell_type": "markdown",
   "metadata": {},
   "source": [
    "Now, find the ***most negatively correlated*** column:"
   ]
  },
  {
   "cell_type": "code",
   "execution_count": 22,
   "metadata": {},
   "outputs": [
    {
     "name": "stdout",
     "output_type": "stream",
     "text": [
      "most negatively correlated is 'KitchenAbvGr' with a correlation of: '-0.1359073708421417'\n"
     ]
    }
   ],
   "source": [
    "# Your code here\n",
    "print(f\"most negatively correlated is '{correlations.index[-1]}' with a correlation of: '{correlations[-1]}'\")"
   ]
  },
  {
   "cell_type": "markdown",
   "metadata": {},
   "source": [
    "Once you have your answer, edit the code below so that it produces a box plot of the relevant columns."
   ]
  },
  {
   "cell_type": "code",
   "execution_count": 23,
   "metadata": {},
   "outputs": [
    {
     "data": {
      "image/png": "[encoded data removed]",
      "text/plain": [
       "<Figure size 1080x360 with 2 Axes>"
      ]
     },
     "metadata": {
      "needs_background": "light"
     },
     "output_type": "display_data"
    }
   ],
   "source": [
    "# Replace None with appropriate code\n",
    "\n",
    "import seaborn as sns\n",
    "\n",
    "fig, (ax1, ax2) = plt.subplots(ncols=2, figsize=(15,5))\n",
    "\n",
    "# Plot distribution of column with highest correlation\n",
    "sns.boxplot(\n",
    "    x=df[correlations.index[1]],\n",
    "    y=df[\"SalePrice\"],\n",
    "    ax=ax1\n",
    ")\n",
    "# Plot distribution of column with most negative correlation\n",
    "sns.boxplot(\n",
    "    x=df[correlations.index[-1]],\n",
    "    y=df[\"SalePrice\"],\n",
    "    ax=ax2\n",
    ")\n",
    "\n",
    "# Customize labels\n",
    "ax1.set_title(f\"Sale Price vs {correlations.index[1]}\")\n",
    "ax1.set_xlabel(f\"{correlations.index[1]}\")\n",
    "ax1.set_ylabel(\"Sale Price\")\n",
    "ax2.set_title(f\"Sale Price vs {correlations.index[-1]}\")\n",
    "ax2.set_xlabel(f\"{correlations.index[-1]}\")\n",
    "ax2.set_ylabel(\"Sale Price\");"
   ]
  },
  {
   "cell_type": "markdown",
   "metadata": {},
   "source": [
    "Interpret the results below. Consult `data/data_description.txt` as needed."
   ]
  },
  {
   "cell_type": "code",
   "execution_count": 24,
   "metadata": {},
   "outputs": [
    {
     "data": {
      "text/plain": [
       "'\\nThe above graph shows the most positively correlated overallQual has higher selling price as the overall quality increases\\nwhile the most negatively correlated KitchenAbvGr, selling price is not as much affected by it.\\n'"
      ]
     },
     "execution_count": 24,
     "metadata": {},
     "output_type": "execute_result"
    }
   ],
   "source": [
    "# Replace None with appropriate text\n",
    "\"\"\"\n",
    "The above graph shows the most positively correlated overallQual has higher selling price as the overall quality increases\n",
    "while the most negatively correlated KitchenAbvGr, selling price is not as much affected by it.\n",
    "\"\"\""
   ]
  },
  {
   "cell_type": "markdown",
   "metadata": {},
   "source": [
    "## 5. Engineer and Explore a New Feature\n",
    "\n",
    "Here the code is written for you, all you need to do is interpret it.\n",
    "\n",
    "We note that the data spans across several years of sales:"
   ]
  },
  {
   "cell_type": "code",
   "execution_count": 25,
   "metadata": {},
   "outputs": [
    {
     "data": {
      "text/plain": [
       "2006    314\n",
       "2007    329\n",
       "2008    304\n",
       "2009    338\n",
       "2010    175\n",
       "Name: YrSold, dtype: int64"
      ]
     },
     "execution_count": 25,
     "metadata": {},
     "output_type": "execute_result"
    }
   ],
   "source": [
    "# Run this cell without changes\n",
    "df[\"YrSold\"].value_counts().sort_index()"
   ]
  },
  {
   "cell_type": "markdown",
   "metadata": {},
   "source": [
    "Maybe we can learn something interesting from the age of the home when it was sold. This uses information from the `YrBuilt` and `YrSold` columns, but represents a truly distinct feature."
   ]
  },
  {
   "cell_type": "code",
   "execution_count": 26,
   "metadata": {},
   "outputs": [
    {
     "data": {
      "image/png": "[encoded data removed]",
      "text/plain": [
       "<Figure size 1080x360 with 1 Axes>"
      ]
     },
     "metadata": {
      "needs_background": "light"
     },
     "output_type": "display_data"
    }
   ],
   "source": [
    "# Run this cell without changes\n",
    "\n",
    "# Make a new column, Age\n",
    "df[\"Age\"] = df[\"YrSold\"] - df[\"YearBuilt\"]\n",
    "\n",
    "# Set up plot\n",
    "fig, ax = plt.subplots(figsize=(15,5))\n",
    "\n",
    "# Plot Age vs. SalePrice\n",
    "ax.scatter(df[\"Age\"], df[\"SalePrice\"], alpha=0.3, color=\"green\")\n",
    "ax.set_title(\"Home Age vs. Sale Price\")\n",
    "ax.set_xlabel(\"Age of Home at Time of Sale\")\n",
    "ax.set_ylabel(\"Sale Price\");"
   ]
  },
  {
   "cell_type": "markdown",
   "metadata": {},
   "source": [
    "Interpret this plot below:"
   ]
  },
  {
   "cell_type": "code",
   "execution_count": 27,
   "metadata": {},
   "outputs": [
    {
     "data": {
      "text/plain": [
       "'\\nThe above plot shows that newer homes have higher prices as compared to older homes.\\nWe can see some outliers where older homes are still fetching higher prices which means that they are not only\\naffected by the age of the home\\n'"
      ]
     },
     "execution_count": 27,
     "metadata": {},
     "output_type": "execute_result"
    }
   ],
   "source": [
    "# Replace None with appropriate text\n",
    "\"\"\"\n",
    "The above plot shows that newer homes have higher prices as compared to older homes.\n",
    "We can see some outliers where older homes are still fetching higher prices which means that they are not only\n",
    "affected by the age of the home\n",
    "\"\"\""
   ]
  },
  {
   "cell_type": "markdown",
   "metadata": {},
   "source": [
    "## Summary\n",
    "\n",
    "Congratulations, you've completed an exploratory data analysis of a popular dataset. You saw how to inspect the distributions of individual columns, subsets of columns, correlations, and new engineered features."
   ]
  },
  {
   "cell_type": "code",
   "execution_count": null,
   "metadata": {},
   "outputs": [],
   "source": []
  },
  {
   "cell_type": "code",
   "execution_count": null,
   "metadata": {},
   "outputs": [],
   "source": []
  },
  {
   "cell_type": "code",
   "execution_count": null,
   "metadata": {},
   "outputs": [],
   "source": []
  },
  {
   "cell_type": "code",
   "execution_count": null,
   "metadata": {},
   "outputs": [],
   "source": []
  }
 ],
 "metadata": {
  "kernelspec": {
   "display_name": "Python (learn-env)",
   "language": "python",
   "name": "learn-env"
  },
  "language_info": {
   "codemirror_mode": {
    "name": "ipython",
    "version": 3
   },
   "file_extension": ".py",
   "mimetype": "text/x-python",
   "name": "python",
   "nbconvert_exporter": "python",
   "pygments_lexer": "ipython3",
   "version": "3.8.5"
  }
 },
 "nbformat": 4,
 "nbformat_minor": 2
}
